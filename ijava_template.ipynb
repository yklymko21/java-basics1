{
  "nbformat": 4,
  "nbformat_minor": 0,
  "metadata": {
    "colab": {
      "provenance": [],
      "private_outputs": true,
      "collapsed_sections": [
        "VFw4eFi9Eq5T",
        "jCgFvK6poLRI",
        "DauGDohftdOR",
        "zaf9sG5614ED",
        "9ekJQjFtP3_z",
        "ftFMysOUajf_",
        "BQSSlIXCPxN-"
      ]
    },
    "kernelspec": {
      "name": "java",
      "display_name": "java"
    }
  },
  "cells": [
    {
      "cell_type": "markdown",
      "source": [],
      "metadata": {
        "id": "bhsib_i8AfwD"
      }
    },
    {
      "cell_type": "markdown",
      "source": [
        " # Java template for Colaboratory notebooks\n",
        " ## Hola\n",
        " ### *Buenas*"
      ],
      "metadata": {
        "id": "v9hXfeq_tmoc"
      }
    },
    {
      "cell_type": "code",
      "metadata": {
        "id": "DC4pJkyNfOF1",
        "collapsed": true
      },
      "source": [
        "!apt update -q\n",
        "!apt-get install -q openjdk-11-jdk-headless\n",
        "!curl -L https://github.com/SpencerPark/IJava/releases/download/v1.3.0/ijava-1.3.0.zip -o ijava-kernel.zip\n",
        "!unzip -q ijava-kernel.zip -d ijava-kernel && cd ijava-kernel && python3 install.py --sys-prefix\n",
        "!jupyter kernelspec list"
      ],
      "execution_count": null,
      "outputs": []
    },
    {
      "cell_type": "code",
      "source": [
        "// true || true = true\n",
        "// true || false = true\n",
        "// false || true = false\n",
        "\n",
        "// true && true = true\n",
        "// true && false = false\n",
        "// false && true = false\n",
        "\n",
        "// && --> AND\n",
        "// || --> OR\n",
        "// ! --> NOT "
      ],
      "metadata": {
        "id": "lB48HhBYBDFe"
      },
      "execution_count": null,
      "outputs": []
    },
    {
      "cell_type": "code",
      "metadata": {
        "id": "bF2jPn3RfpfR"
      },
      "source": [
        "System.out.println(\"Hello World\");\n"
      ],
      "execution_count": null,
      "outputs": []
    },
    {
      "cell_type": "code",
      "metadata": {
        "id": "Y2BVNSNKgkUK"
      },
      "source": [
        "byte b = 10;\n",
        "System.out.println(b);\n"
      ],
      "execution_count": null,
      "outputs": []
    },
    {
      "cell_type": "code",
      "source": [
        "byte b = 127;\n",
        "  System.out.println(b);"
      ],
      "metadata": {
        "id": "CPMxfe6V93HV"
      },
      "execution_count": null,
      "outputs": []
    },
    {
      "cell_type": "code",
      "source": [
        "short s = 10;\n",
        "int n = 10;\n",
        "long l = 10;"
      ],
      "metadata": {
        "id": "fp849qbZ-F7T"
      },
      "execution_count": null,
      "outputs": []
    },
    {
      "cell_type": "code",
      "source": [
        "int m = (int)10L;\n",
        "  System.out.println(m);"
      ],
      "metadata": {
        "id": "wq6Wu5Ab-pq9"
      },
      "execution_count": null,
      "outputs": []
    },
    {
      "cell_type": "code",
      "source": [
        "byte b = (byte) 128;\n",
        "System.out.println(b);"
      ],
      "metadata": {
        "id": "cIvp9Iy0A-7n"
      },
      "execution_count": null,
      "outputs": []
    },
    {
      "cell_type": "code",
      "source": [
        "float f = 10.5f;\n",
        "System.out.println(f);"
      ],
      "metadata": {
        "id": "yV8Da4ZfEPu9"
      },
      "execution_count": null,
      "outputs": []
    },
    {
      "cell_type": "code",
      "source": [
        "int p = (int)10.8;\n",
        "System.out.println(p);"
      ],
      "metadata": {
        "id": "9SuY54goHrqn"
      },
      "execution_count": null,
      "outputs": []
    },
    {
      "cell_type": "code",
      "source": [
        "char c = 'C';\n",
        "  System.out.println(c);"
      ],
      "metadata": {
        "id": "StN08wnEIGo9"
      },
      "execution_count": null,
      "outputs": []
    },
    {
      "cell_type": "code",
      "source": [
        "int a = 'A' + 1;\n",
        "  System.out.println(a);\n",
        "char t = (char) a;\n",
        "  System.out.println(t);"
      ],
      "metadata": {
        "id": "jLsWIQNgIjI_"
      },
      "execution_count": null,
      "outputs": []
    },
    {
      "cell_type": "code",
      "source": [
        "int a = 'A' + 3;\n",
        "  System.out.println(a);\n",
        "char t = (char) a;\n",
        "  System.out.println(t);"
      ],
      "metadata": {
        "id": "a9HR1mIWEIpR"
      },
      "execution_count": null,
      "outputs": []
    },
    {
      "cell_type": "code",
      "source": [
        "char u = 65;\n",
        "int s = u;\n",
        "  System.out.println(s);"
      ],
      "metadata": {
        "id": "5BLSnBSdJr0Z"
      },
      "execution_count": null,
      "outputs": []
    },
    {
      "cell_type": "code",
      "source": [
        "long q = 10 + 120;\n",
        "  System.out.println(q)"
      ],
      "metadata": {
        "id": "_8ahKAjAKdZU"
      },
      "execution_count": null,
      "outputs": []
    },
    {
      "cell_type": "markdown",
      "source": [
        "##Booleans"
      ],
      "metadata": {
        "id": "VFw4eFi9Eq5T"
      }
    },
    {
      "cell_type": "code",
      "source": [
        "boolean bol1 = false;\n",
        "boolean bol2 = true;\n",
        "  System.out.println(bol1);\n",
        "  System.out.println(bol2);"
      ],
      "metadata": {
        "id": "PXPT3FSUL-qu"
      },
      "execution_count": null,
      "outputs": []
    },
    {
      "cell_type": "code",
      "source": [
        "String salutacio = \"Hola\";\n",
        "  System.out.println(salutacio);"
      ],
      "metadata": {
        "id": "oLX1AhAXNGo7"
      },
      "execution_count": null,
      "outputs": []
    },
    {
      "cell_type": "code",
      "source": [
        "String input(String str) {\n",
        "  System.out.print(str);\n",
        "  Scanner scn = new Scanner(System.in);\n",
        "  return scn.nextLine();\n",
        "}\n",
        "\n",
        "  String name = input(\"What's your name? \");\n",
        "  System.out.print(\"Hello \" + name);"
      ],
      "metadata": {
        "id": "xvBPBmkkOPbr"
      },
      "execution_count": null,
      "outputs": []
    },
    {
      "cell_type": "code",
      "source": [
        "System.out.println(\"Hellow World\")"
      ],
      "metadata": {
        "id": "6acs9R-nmM8Y"
      },
      "execution_count": null,
      "outputs": []
    },
    {
      "cell_type": "markdown",
      "source": [
        "#Expressions Aritmètiques 02/10/2022"
      ],
      "metadata": {
        "id": "jCgFvK6poLRI"
      }
    },
    {
      "cell_type": "code",
      "source": [
        "//Suma\n",
        "System.out.println(10+9);\n",
        "\n",
        "//Resta\n",
        "System.out.println(10-9);\n",
        "\n",
        "//Multiplicació\n",
        "System.out.println(10*9);\n",
        "\n",
        "//Divisió\n",
        "System.out.println(10/9.0);\n"
      ],
      "metadata": {
        "id": "px0Zusp7oQG9"
      },
      "execution_count": null,
      "outputs": []
    },
    {
      "cell_type": "code",
      "source": [
        "int n = 4;\n",
        "int m = 2;\n",
        "int r = 2*(n/m) + n*m;\n",
        "  System.out.println(r);\n",
        "  \n",
        "int r2 = m^n; //bitwise --> hace, va bit a bit y calcula \"i\" logic Math.pow(m,n)\n",
        "  System.out.println(r2);"
      ],
      "metadata": {
        "id": "nXmalrZwqr4V"
      },
      "execution_count": null,
      "outputs": []
    },
    {
      "cell_type": "code",
      "source": [
        "int x = 6;\n",
        "int y = 12;\n",
        "int res = 2*(y/x) + y-x;\n",
        "  System.out.println(res);"
      ],
      "metadata": {
        "id": "cFwDUCpYL43M"
      },
      "execution_count": null,
      "outputs": []
    },
    {
      "cell_type": "markdown",
      "source": [
        "#Expressions lògiques (booleanes) \n"
      ],
      "metadata": {
        "id": "DauGDohftdOR"
      }
    },
    {
      "cell_type": "code",
      "source": [
        "boolean jo = true;\n",
        "boolean tu = false;\n",
        "\n",
        "boolean resultAND = jo && tu;\n",
        "boolean resultOr = jo || tu;\n",
        "boolean NOT =  !jo && !tu;\n",
        "\n",
        "  System.out.println(resultAND);\n",
        "  System.out.println(resultOr);\n",
        "  System.out.println(NOT);"
      ],
      "metadata": {
        "id": "8ci1CZ-WtjtL"
      },
      "execution_count": null,
      "outputs": []
    },
    {
      "cell_type": "code",
      "source": [
        "boolean jo = true;\n",
        "boolean tu = false;\n",
        "\n",
        "boolean resultAND = jo && tu;\n",
        "boolean resultOr = jo || tu;\n",
        "boolean NOT =  !jo && !tu;\n",
        "  System.out.println(resultAND);\n",
        "  System.out.println(resultOr);\n",
        "  System.out.println(NOT);\n",
        "\n",
        "if(resultOr)\n",
        "  System.out.println(\"Has acertado\");\n",
        "else\n",
        "  System.out.println(\"Has fallado\");"
      ],
      "metadata": {
        "id": "zFd_Qyh_sirt"
      },
      "execution_count": null,
      "outputs": []
    },
    {
      "cell_type": "code",
      "source": [
        "boolean hello = true;\n",
        "boolean bye = false;\n",
        "boolean result = hello || bye;\n",
        "  System.out.println(result);\n",
        "\n",
        "if(result)\n",
        "  System.out.println(\"Aprobado\");\n",
        "else \n",
        "  System.out.println(\"Suspendido\");"
      ],
      "metadata": {
        "id": "57ILZZZyt_eV"
      },
      "execution_count": null,
      "outputs": []
    },
    {
      "cell_type": "code",
      "source": [
        "boolean aprobado = true, suspendido = false;\n",
        "boolean res = !aprobado || suspendido;\n",
        "  System.out.println(res);\n",
        "\n",
        "if(res)\n",
        "  System.out.println(\"Tienes un 10\");\n",
        "else  \n",
        "  System.out.println(\"Tienes un 0\");"
      ],
      "metadata": {
        "id": "BhOQqEUs9KjQ"
      },
      "execution_count": null,
      "outputs": []
    },
    {
      "cell_type": "markdown",
      "source": [
        "#Operadors de la comparació\n"
      ],
      "metadata": {
        "id": "zaf9sG5614ED"
      }
    },
    {
      "cell_type": "code",
      "source": [
        "int x; //Declaració de variable: diem el tipus ded dada\n",
        "int y; //Declaració de variable i assignació al mateix temps\n",
        "x=6; //Assignació\n",
        "y=5;\n",
        "\n",
        "System.out.println(x == y); //Igualtat\n",
        "System.out.println(x != y); //Diferent\n",
        "System.out.println(x > y); //Més gran que\n",
        "System.out.println(x < y); //Més petit que"
      ],
      "metadata": {
        "id": "XF_OHlpY17nU"
      },
      "execution_count": null,
      "outputs": []
    },
    {
      "cell_type": "code",
      "source": [
        "int x, y; //Declaració de variable: diem el tipus ded dada\n",
        "x=6; //Assignació\n",
        "y=5;\n",
        "\n",
        "System.out.println(x == y); //Igualtat\n",
        "System.out.println(x != y); //Diferent\n",
        "System.out.println(x > y); //Més gran que\n",
        "System.out.println(x < y); //Més petit que"
      ],
      "metadata": {
        "id": "7mALXWR54raT"
      },
      "execution_count": null,
      "outputs": []
    },
    {
      "cell_type": "code",
      "source": [
        "int x=6, y=5; //Declaració de variable: diem el tipus ded dada\n",
        "\n",
        "System.out.println(x == y); //Igualtat\n",
        "System.out.println(x != y); //Diferent\n",
        "System.out.println(x > y); //Més gran que\n",
        "System.out.println(x < y); //Més petit que"
      ],
      "metadata": {
        "id": "xQ15qIAt4xwi"
      },
      "execution_count": null,
      "outputs": []
    },
    {
      "cell_type": "code",
      "source": [
        "int x=6, y; //Declaració de variable: diem el tipus ded dada\n",
        "y=5;\n",
        "\n",
        "System.out.println(x == y); //Igualtat\n",
        "System.out.println(x != y); //Diferent\n",
        "System.out.println(x > y); //Més gran que\n",
        "System.out.println(x < y); //Més petit que"
      ],
      "metadata": {
        "id": "_WcFqFSI444S"
      },
      "execution_count": null,
      "outputs": []
    },
    {
      "cell_type": "code",
      "source": [
        "int x=6, y=5; //Declaració de variable: diem el tipus ded dada\n",
        "\n",
        "System.out.println(x == y); //Igualtat\n",
        "System.out.println(x != y); //Diferent\n",
        "System.out.println(x > y); //Més gran que\n",
        "System.out.println(x < y); //Més petit que\n",
        "System.out.println(x >= y); //Més gran o igual que\n",
        "System.out.println(x <= y); //Més petit que o igual que"
      ],
      "metadata": {
        "id": "sI6OF5FV43ob"
      },
      "execution_count": null,
      "outputs": []
    },
    {
      "cell_type": "code",
      "source": [
        "int x = 5, y = 3;\n",
        "  System.out.println(x >= y);"
      ],
      "metadata": {
        "id": "Z8g8e_8WB-Ii"
      },
      "execution_count": null,
      "outputs": []
    },
    {
      "cell_type": "code",
      "source": [
        "int x=6, y=5;\n",
        "  System.out.println(x >= y);"
      ],
      "metadata": {
        "id": "9gNJoTX1AXU1"
      },
      "execution_count": null,
      "outputs": []
    },
    {
      "cell_type": "code",
      "source": [
        "int n=5, m=10;\n",
        "int r = n * m;\n",
        "  System.out.println(r);"
      ],
      "metadata": {
        "id": "rBlkqJCZ5SJ6"
      },
      "execution_count": null,
      "outputs": []
    },
    {
      "cell_type": "code",
      "source": [
        "boolean jo = true, tu = false;\n",
        "boolean result = jo && tu;\n",
        "  System.out.println(result);"
      ],
      "metadata": {
        "id": "BYkW_fzn5axq"
      },
      "execution_count": null,
      "outputs": []
    },
    {
      "cell_type": "code",
      "source": [
        "boolean res = (6 >= 5) || (34 > 23) && true || false;\n",
        "  System.out.println(res);"
      ],
      "metadata": {
        "id": "I4b8vRp76PA7"
      },
      "execution_count": null,
      "outputs": []
    },
    {
      "cell_type": "code",
      "source": [
        "int b = 6, c = 5, f = 8, t = 12;\n",
        "boolean me = true, you = false; \n",
        "\n",
        "boolean res = !(b >= c) || (f > t) && me || you;\n",
        "if (!res && res)\n",
        "  System.out.println(\"Res es true\");\n",
        "else\n",
        "  System.out.println(\"Res es false\");"
      ],
      "metadata": {
        "id": "5dELK5yy6UKE"
      },
      "execution_count": null,
      "outputs": []
    },
    {
      "cell_type": "code",
      "source": [
        "int a = 34, b = 65, c = 40;\n",
        "boolean We = true, They = false;\n",
        "\n",
        "boolean resultado = (b < a) || !(We && They) && (c == b) || (We || !They);\n",
        "\n",
        "if(resultado || !resultado)\n",
        "  System.out.println(\"True\");\n",
        "else \n",
        "  System.out.println(\"False\");"
      ],
      "metadata": {
        "id": "EmVRga6DEMQ2"
      },
      "execution_count": null,
      "outputs": []
    },
    {
      "cell_type": "code",
      "source": [
        "int v = 120, b = 6;\n",
        "int res = v/b;\n",
        "\n",
        "if(v % b == 1)\n",
        "  System.out.println(res);\n",
        "else\n",
        "  System.out.println(\"Vuelve a intentarlo\");"
      ],
      "metadata": {
        "id": "xVAYL8ttRdua"
      },
      "execution_count": null,
      "outputs": []
    },
    {
      "cell_type": "code",
      "source": [
        "String input(String str) {\n",
        "  System.out.print(str);\n",
        "  Scanner scn = new Scanner(System.in);\n",
        "  return scn.nextLine();\n",
        "}\n",
        "\n",
        "  String name = input(\"What's your name? \");\n",
        "  System.out.print(\"Hello \" + name);"
      ],
      "metadata": {
        "id": "G8MDKMDpX6IK"
      },
      "execution_count": null,
      "outputs": []
    },
    {
      "cell_type": "code",
      "source": [
        "int a = 10, b = 30, c = 60;\n",
        "boolean Joe = true, Jack = false;\n",
        "\n",
        "boolean hecho = (Joe || Joe) && (b <= c) || (Joe && !Jack) || !(a >= c) && !(Jack && Joe);\n",
        "if (hecho && !hecho)\n",
        "  System.out.println(\"Aprobado\");\n",
        "else\n",
        "  System.out.println(\"Suspendido\");"
      ],
      "metadata": {
        "id": "MCMh8uDnGopz"
      },
      "execution_count": null,
      "outputs": []
    },
    {
      "cell_type": "code",
      "source": [
        "int num = 15;\n",
        "//true si el num està entre 10 i 20 incolosos\n",
        "//false si no ho esta\n",
        "\n",
        "if(num >= 10 && num <= 20)\n",
        " System.out.println(\"true\");\n",
        "else\n",
        " System.out.println(\"false\");"
      ],
      "metadata": {
        "id": "krSPHoCJ78HR"
      },
      "execution_count": null,
      "outputs": []
    },
    {
      "cell_type": "code",
      "source": [
        "int x = 10;\n",
        "int v = 22;\n",
        "//\"v és múltiple de x\" si v es múltiple de v\n",
        "//\"v no és múltiple de x\" en cas contrari\n",
        "if(v % x == 2)\n",
        " System.out.println(\"true\");\n",
        "else \n",
        " System.out.println(\"false\"); "
      ],
      "metadata": {
        "id": "Z_d-sQWn-v_Y"
      },
      "execution_count": null,
      "outputs": []
    },
    {
      "cell_type": "code",
      "source": [
        "int v = 7, b = 21;\n",
        "int res = b/v;\n",
        "if(b % v == 0)\n",
        "  System.out.println(res);\n",
        "else\n",
        "  System.out.println(\"Error\");"
      ],
      "metadata": {
        "id": "jIeGuy4RY2or"
      },
      "execution_count": null,
      "outputs": []
    },
    {
      "cell_type": "code",
      "source": [
        "short a = 800;\n",
        "short b = 400;\n",
        "\n",
        "if(a % b == 0)\n",
        " System.out.println(\"true\");\n",
        "else \n",
        " System.out.println(\"false\");"
      ],
      "metadata": {
        "id": "7EW-XMkHBNMm"
      },
      "execution_count": null,
      "outputs": []
    },
    {
      "cell_type": "code",
      "source": [
        "short a = 20;\n",
        "short b = 10;\n",
        "\n",
        "if(a % b == 0)\n",
        " System.out.println(\"true\");\n",
        "else\n",
        " System.out.println(\"false\");"
      ],
      "metadata": {
        "id": "9DCcAAGp_yqD"
      },
      "execution_count": null,
      "outputs": []
    },
    {
      "cell_type": "code",
      "source": [
        "short x = 6;\n",
        "short v = 37;\n",
        "\n",
        "if(v % x == 0)\n",
        "  \n",
        "  System.out.println(\"true\");\n",
        "else\n",
        "  System.out.println(\"false\");"
      ],
      "metadata": {
        "id": "NkMlY-5VBn9c"
      },
      "execution_count": null,
      "outputs": []
    },
    {
      "cell_type": "code",
      "source": [
        "int v = 35, x = 7;\n",
        "System.out.printf(\"v = %d, x = %d%n\", v, x);"
      ],
      "metadata": {
        "id": "s0h7_ggGDgYp"
      },
      "execution_count": null,
      "outputs": []
    },
    {
      "cell_type": "markdown",
      "source": [
        "#04/10/2022"
      ],
      "metadata": {
        "id": "9ekJQjFtP3_z"
      }
    },
    {
      "cell_type": "code",
      "source": [
        "System.out.print(\"Hola \"); // Pondrá Hola bon dia --> en linea\n",
        "System.out.print(\"bon dia \" ); // Pondrá Hola bon dia --> en linea\n",
        "System.out.println(\"Hola \"); //Pondrá Hola bon dia --> en fila\n",
        "System.out.println(\"bon dia \"); //Pondrá Hola bon dia --> en fila"
      ],
      "metadata": {
        "id": "r3WgneS7EB1_"
      },
      "execution_count": null,
      "outputs": []
    },
    {
      "cell_type": "code",
      "source": [
        "System.out.print(\"Hola \"); // Pondrá Hola bon dia --> en linea\n",
        "System.out.print(\"bon dia \"); // Pondrá Hola bon dia --> en linea"
      ],
      "metadata": {
        "id": "GJG1dbomFB9o"
      },
      "execution_count": null,
      "outputs": []
    },
    {
      "cell_type": "code",
      "source": [
        "System.out.println(\"Hola\"); //Pondrá Hola bon dia --> en fila\n",
        "System.out.println(\"bon dia \"); //Pondrá Hola bon dia --> en fila"
      ],
      "metadata": {
        "id": "An7ihu03FDtX"
      },
      "execution_count": null,
      "outputs": []
    },
    {
      "cell_type": "markdown",
      "source": [
        "#REPASAR!!!"
      ],
      "metadata": {
        "id": "ftFMysOUajf_"
      }
    },
    {
      "cell_type": "code",
      "source": [
        "String mon = \"Hasta luego\";\n",
        "System.out.printf(\"Hello %s! %nBye Bye %s%n \", mon, mon);"
      ],
      "metadata": {
        "id": "DeGlaLnlFqi_"
      },
      "execution_count": null,
      "outputs": []
    },
    {
      "cell_type": "code",
      "source": [
        "System.out.printf(\"Numero deu mil = %,d %n\", 10000);"
      ],
      "metadata": {
        "id": "QGbfrovPF-8X"
      },
      "execution_count": null,
      "outputs": []
    },
    {
      "cell_type": "code",
      "source": [
        "System.out.printf(\"Numero deu mil millions = %,d %n\", 10000000000L);"
      ],
      "metadata": {
        "id": "XZVUVvUCHgx9"
      },
      "execution_count": null,
      "outputs": []
    },
    {
      "cell_type": "code",
      "source": [
        "float a = 3;\n",
        "System.out.println(a);"
      ],
      "metadata": {
        "id": "dNYhh4akF3mf"
      },
      "execution_count": null,
      "outputs": []
    },
    {
      "cell_type": "code",
      "source": [
        "System.out.printf(\"Numero pi = %f%n\", 3.1415);"
      ],
      "metadata": {
        "id": "zh3lsSorFx0a"
      },
      "execution_count": null,
      "outputs": []
    },
    {
      "cell_type": "code",
      "source": [
        "int dia = 17, mes = 2, any = 2005;\n",
        "  System.out.printf(\"%02d/%02d/%4d%n\", dia, mes, any);"
      ],
      "metadata": {
        "id": "X2pWE0ohbcpz"
      },
      "execution_count": null,
      "outputs": []
    },
    {
      "cell_type": "code",
      "source": [
        "int day = 1, mes = 10, any = 2022;\n",
        "  System.out.printf(\"%02d/%2d/%4d%n\", day, mes, any);"
      ],
      "metadata": {
        "id": "_qj5solNfqzz"
      },
      "execution_count": null,
      "outputs": []
    },
    {
      "cell_type": "code",
      "source": [
        "System.out.printf(\"Numero pi = %5.2f%n\", 3.1415);"
      ],
      "metadata": {
        "id": "WUZxhAjxIsJz"
      },
      "execution_count": null,
      "outputs": []
    },
    {
      "cell_type": "code",
      "source": [
        "System.out.printf(\"Numero pi = %5.2f%n\", 1234.1415);"
      ],
      "metadata": {
        "id": "WUY8N8fEJgYE"
      },
      "execution_count": null,
      "outputs": []
    },
    {
      "cell_type": "code",
      "source": [
        "System.out.printf(\"Numero pi = %20.2f%n\", 1234.1415);"
      ],
      "metadata": {
        "id": "TYIcRIYeJiyM"
      },
      "execution_count": null,
      "outputs": []
    },
    {
      "cell_type": "code",
      "source": [
        "System.out.printf(\"Numero pi = %020.2f%n\", 1234.1415);"
      ],
      "metadata": {
        "id": "YfxZEW3nKDOK"
      },
      "execution_count": null,
      "outputs": []
    },
    {
      "cell_type": "code",
      "source": [
        "System.out.printf(\"Numero pi = %020.2f%n\", 1234.1415);"
      ],
      "metadata": {
        "id": "jtHt8tCNKJUT"
      },
      "execution_count": null,
      "outputs": []
    },
    {
      "cell_type": "code",
      "source": [
        "System.out.printf(\"Numero pi%n\");"
      ],
      "metadata": {
        "id": "qI7NfnL0KU3D"
      },
      "execution_count": null,
      "outputs": []
    },
    {
      "cell_type": "code",
      "source": [
        "int b = 4, c = 7, g = 11; \n",
        "boolean me = true, you = false;\n",
        "\n",
        "boolean res = !(c < g) || (b >= g) && me || you;\n",
        "if(!res && res)  \n",
        "  System.out.println(\"Has acertado\");\n",
        "else\n",
        "  System.out.println(\"No has acertado\");"
      ],
      "metadata": {
        "id": "PNWukc-dKi84"
      },
      "execution_count": null,
      "outputs": []
    },
    {
      "cell_type": "code",
      "source": [
        "int dia = 1;\n",
        "int mes = 10;\n",
        "int any = 2017;\n",
        "\n",
        "System.out.printf(\"%02d/%2d/%4d%n\", dia, mes, any);"
      ],
      "metadata": {
        "id": "N0vur3EGMxny"
      },
      "execution_count": null,
      "outputs": []
    },
    {
      "cell_type": "code",
      "source": [
        "System.out.printf(\"Tu numero de suerte es %,d%n\", 1000000000000000000000L);"
      ],
      "metadata": {
        "id": "bJAdHJ-zgXgZ"
      },
      "execution_count": null,
      "outputs": []
    },
    {
      "cell_type": "markdown",
      "source": [
        "##Bloc de codi"
      ],
      "metadata": {
        "id": "BQSSlIXCPxN-"
      }
    },
    {
      "cell_type": "code",
      "source": [
        "int n = 7; // és visible per tots els blocs de codi fills\n",
        "{\n",
        "  //bloc de codi 1\n",
        "  System.out.printf(\"Des del bloc de codi 1: n = %d %n\", n);\n",
        "  int m = 10;\n",
        "  {\n",
        "    //bloc de codi 2 fill de l'1\n",
        "    System.out.printf(\"Des del bloc de codi 2: n = %d %n\", n);\n",
        "    System.out.printf(\"Des del bloc de codi 2: n = %d %n\", m);\n",
        "  }\n",
        "\n",
        "\n",
        " {\n",
        "  //bloc de codi 3 germà de l'1 i tiet del 2\n",
        "  System.out.printf(\"Des del bloc de codi 3: n = %d %n\", n);\n",
        "  System.out.printf(\"Des del bloc de codi 2: n = %d %n\", m);\n",
        " }\n",
        "}"
      ],
      "metadata": {
        "id": "jGOqDJAhP0pW"
      },
      "execution_count": null,
      "outputs": []
    },
    {
      "cell_type": "markdown",
      "source": [
        "#---------------------------------------------------"
      ],
      "metadata": {
        "id": "ZGnIfpY-ei2g"
      }
    },
    {
      "cell_type": "code",
      "source": [
        "int x = 6;\n",
        "int v = 37;\n",
        "\n",
        "if (v % x == 0) {\n",
        "  System.out.println(\"v és múltiple de x\");\n",
        "  x = v;\n",
        "}\n",
        " else {\n",
        "   System.out.println(\"v no és múltiple de x\");\n",
        " }"
      ],
      "metadata": {
        "id": "8zJPR18XStjF"
      },
      "execution_count": null,
      "outputs": []
    },
    {
      "cell_type": "code",
      "source": [
        "int x = 6;\n",
        "int v = 36;\n",
        "\n",
        "if (v % x == 0) {\n",
        "   System.out.println(\"v no és múltiple de x\");\n",
        "  System.out.printf(\"v = %d, x = %d%n\", v, x); //no forma part del if\n",
        "}\n",
        "\n"
      ],
      "metadata": {
        "id": "3smf8TRcTsP7"
      },
      "execution_count": null,
      "outputs": []
    },
    {
      "cell_type": "code",
      "source": [
        "int x = 6;\n",
        "int v = 37;\n",
        "\n",
        "if (v % x == 0) {\n",
        "   System.out.println(\"v no és múltiple de x\");\n",
        "  System.out.printf(\"v = %d, x = %d%n\", v, x); //no forma part del if\n",
        "}"
      ],
      "metadata": {
        "id": "5lw8TBpBZWKE"
      },
      "execution_count": null,
      "outputs": []
    },
    {
      "cell_type": "code",
      "source": [
        "boolean x = true, y = false;\n",
        "\n",
        "boolean res = (x == y); \n",
        "  System.out.println(res);"
      ],
      "metadata": {
        "id": "SmS9pavl5dPP"
      },
      "execution_count": null,
      "outputs": []
    },
    {
      "cell_type": "code",
      "source": [
        "String name = \"Joan\";\n",
        "  System.out.println(name);"
      ],
      "metadata": {
        "id": "Tsfg7XDa-nml"
      },
      "execution_count": null,
      "outputs": []
    },
    {
      "cell_type": "code",
      "source": [
        "int a = 17; \n",
        "int b = 15;\n",
        "\n",
        "boolean res = (a >= b) && (b <= b);\n",
        "  System.out.println(res);"
      ],
      "metadata": {
        "id": "z4VhpX-mjAiO"
      },
      "execution_count": null,
      "outputs": []
    },
    {
      "cell_type": "code",
      "source": [
        "int a = 20, b = 30;\n",
        "\n",
        "boolean me = true, you = false;\n",
        "boolean res = !(a <= b) || !(b == a) && !(me || you) && !(a <= b);\n",
        "  System.out.println(res);"
      ],
      "metadata": {
        "id": "UPAcErWvlvRE"
      },
      "execution_count": null,
      "outputs": []
    },
    {
      "cell_type": "code",
      "source": [
        "int a = 20, b = 30;\n",
        "boolean me = true;\n",
        "boolean you = false;\n",
        "boolean res = (a <= b) || !(me && you);\n",
        "  System.out.println(!res);"
      ],
      "metadata": {
        "id": "f2R0v3fXn2J3"
      },
      "execution_count": null,
      "outputs": []
    },
    {
      "cell_type": "code",
      "source": [
        "int day = 24, mes = 8, any = 2022;\n",
        "\n",
        "System.out.printf(\"%2d/%02d/%4d\", day, mes, any);\n"
      ],
      "metadata": {
        "id": "8mxBHr3JpA5k"
      },
      "execution_count": null,
      "outputs": []
    },
    {
      "cell_type": "code",
      "source": [
        "int a = 3, b = 4, c = 6;{\n",
        "  System.out.printf(\"%d*%d-%d%n\", a, b, c);\n",
        "}\n",
        "int a = 5, b = 7, c = 10, d = 4;\n",
        "boolean me = true, you = false;\n",
        "\n",
        "boolean res = (!me || !you) || (b >= a) && !(me && you) || !(a <= c) || !(d >= b);\n",
        "\n",
        "if(!res && res || !res) \n",
        "  System.out.println(\"Opcion 1\");\n",
        "else\n",
        "  System.out.println(\"Opcion 2\");\n",
        "\n",
        "String f = \"Hola me llamo John\";\n",
        "  System.out.println(f);\n",
        "\n",
        "if(5 >= 3)\n",
        "  System.out.println(\"Cierto\");\n",
        "else\n",
        "  System.out.println(\"Falso\");\n",
        "\n",
        "int a = 160, b = 40;\n",
        "\n",
        "if(a % b == 0)\n",
        "  System.out.println(a/b);\n",
        "else\n",
        "  System.out.println(\"La fallaste\");\n",
        "\n",
        "char a = 'B' + 5;\n",
        "int res = a + 3;\n",
        "  System.out.println(a);\n",
        "  System.out.println(res);\n",
        "\n",
        "int rev = 'G';\n",
        "  System.out.println(rev);\n",
        "\n",
        "int day = 8, mes = 10, any = 2022;\n",
        "  System.out.printf(\"%02d/%2d/%4d%n\", day, mes, any);"
      ],
      "metadata": {
        "id": "xxKpvk2D1jjt"
      },
      "execution_count": null,
      "outputs": []
    },
    {
      "cell_type": "code",
      "source": [
        "int num = 112;\n",
        "//true si el num està entre 10 i 20\n",
        "//o està entre 110 i 120\n",
        "//false si no ho està\n",
        "\n",
        "if(num >= 10 && num <= 20)\n",
        "  System.out.println(\"true gran\");\n",
        "else if(num >= 110 && num <= 120)\n",
        "  System.out.println(\"true petit\");\n",
        "else\n",
        "  System.out.println(\"false\");"
      ],
      "metadata": {
        "id": "hGjcALG37XxQ"
      },
      "execution_count": null,
      "outputs": []
    },
    {
      "cell_type": "code",
      "source": [
        "int edat = 17;\n",
        "\n",
        "if((edat >= 18) || (edat >=0 && edat <18))\n",
        "  System.out.printf(\"Edat vàlida: %n\");\n",
        "else\n",
        "  System.out.printf(\"Edat invàlida: %n\");"
      ],
      "metadata": {
        "id": "Q7XlNvWi83Y2"
      },
      "execution_count": null,
      "outputs": []
    },
    {
      "cell_type": "code",
      "source": [
        "int edat = 17;\n",
        "// si es major d'edat \n",
        "// si no és edat vàlida\n",
        "\n",
        "if(edat >= 18)\n",
        "  System.out.printf(\"Edat vàlida: ets major d'edat %n\");\n",
        "else if(edat >=0 && edat <18)\n",
        "  System.out.printf(\"Edat vàlida, pero , ets menor i no pots fumar\");\n",
        "else\n",
        "  System.out.printf(\"Edat invàlida: %n\");"
      ],
      "metadata": {
        "id": "DxU7w5pm-3tO"
      },
      "execution_count": null,
      "outputs": []
    },
    {
      "cell_type": "code",
      "source": [
        "int edat = 19;\n",
        "// si es major d'edat \n",
        "// si no és edat vàlida\n",
        "\n",
        "if(edat >= 18)\n",
        "  System.out.printf(\"Edat vàlida: ets major d'edat %n\");\n",
        "else if(edat >= 12 && edat <= 17){\n",
        "  System.out.printf(\"Edat vàlida, pero , ets un dolcescent %n\");\n",
        "  System.out.printf(\"Edat vàlida, pero , ets menor i no pots fumar\");\n",
        "}\n",
        "else if(edat >= 0 && edat <= 11){\n",
        "  System.out.printf(\"Edat vàlida, pero , ets un nen\");\n",
        "  System.out.printf(\"Edat vàlida, pero , ets menor i no pots fumar\");\n",
        "}\n",
        "else\n",
        "  System.out.printf(\"Edat invàlida: %n\");\n",
        "\n",
        "// System.out.printf(\"Edat vàlida, pero , ets un dolcescent %n\");// de 12 a 17\n",
        "// System.out.printf(\"Edat vàlida, pero , ets un nen\");//de 0 a 11"
      ],
      "metadata": {
        "id": "ADOVKTYH_mcW"
      },
      "execution_count": null,
      "outputs": []
    },
    {
      "cell_type": "code",
      "source": [],
      "metadata": {
        "id": "UaO4obuPs_-j"
      },
      "execution_count": null,
      "outputs": []
    },
    {
      "cell_type": "code",
      "source": [],
      "metadata": {
        "id": "wJVX5jw0tAGg"
      },
      "execution_count": null,
      "outputs": []
    },
    {
      "cell_type": "code",
      "source": [],
      "metadata": {
        "id": "Ov5SyZrmtAN7"
      },
      "execution_count": null,
      "outputs": []
    },
    {
      "cell_type": "code",
      "source": [],
      "metadata": {
        "id": "T0pF0emqtAT2"
      },
      "execution_count": null,
      "outputs": []
    },
    {
      "cell_type": "markdown",
      "source": [
        "#Deberes | Lliurament 11/10/2022 | java-basics1"
      ],
      "metadata": {
        "id": "43aoMLizLfXY"
      }
    },
    {
      "cell_type": "code",
      "source": [
        "int day = 8, mes = 10, any = 2022;\n",
        "  System.out.printf(\"%02d/%2d/%4d%n\", day, mes, any);"
      ],
      "metadata": {
        "id": "FJyqYwuvP_vz"
      },
      "execution_count": null,
      "outputs": []
    },
    {
      "cell_type": "code",
      "source": [
        "String printBinary(String binary, int blockSize, String separator) {\n",
        "        List<String> result = new ArrayList<>();\n",
        "        int index = 0;\n",
        "        while (index < binary.length()) {\n",
        "            result.add(binary.substring(index, Math.min(index + blockSize, binary.length())));\n",
        "            index += blockSize;\n",
        "        }\n",
        "\n",
        "        return result.stream().collect(java.util.stream.Collectors.joining(separator));\n",
        "    }\n",
        "void intToBin(int input){\n",
        "    String result = Integer.toBinaryString(input);\n",
        "    String resultWithPadding = String.format(\"%32s\", result).replaceAll(\" \", \"0\");\n",
        "    System.out.println(printBinary(resultWithPadding, 4, \" \")); \n",
        "}"
      ],
      "metadata": {
        "id": "cST2awfYLhVG"
      },
      "execution_count": null,
      "outputs": []
    },
    {
      "cell_type": "markdown",
      "source": [
        "#Pregunta 1\n",
        "Declara dues variables de tipus byte, b0 i b1, i assigna-lis respectivament els valors 122 i 14:\n",
        "\n",
        "byte b0 = 122; byte b1 = 14;\n",
        "Suma les dues variables, sense assignar el resultat a cap variable (jshell l'assignarà automàticament a un variable temporal, que comença per $):\n",
        "\n",
        "b0 + b1\n",
        "Quin resultat obtenim? Per què? De quin tipus de dada és la variable temporal creada pel notebook?"
      ],
      "metadata": {
        "id": "fxDHZ84nOaxv"
      }
    },
    {
      "cell_type": "code",
      "source": [
        "//Opción 1 de imprimido\n",
        "byte b01 = 122, b02 = 14;\n",
        "b01 + b02;\n",
        "//Opción 2 de imprimido\n",
        "byte b01 = 122, b02 = 14;\n",
        "  System.out.printf(\"%d%n\", b01 + b02);"
      ],
      "metadata": {
        "id": "bb4xI3sXLpR2"
      },
      "execution_count": null,
      "outputs": []
    },
    {
      "cell_type": "markdown",
      "source": [
        "###Resposta: Obtenemos el resultado de la suma de las variables, porqué \"b01\" más \"b02\" y da el resultado 136.\n",
        "\n",
        "###El tipo de dato creado en notebook es tipo integer\n"
      ],
      "metadata": {
        "id": "pFKbg-rOMzNQ"
      }
    },
    {
      "cell_type": "code",
      "source": [
        "long b0 = 122; long b1 = 1;//123\n",
        "int r = (int)(b0 + b1);\n",
        "  System.out.printf(\"%3d%n\", r);"
      ],
      "metadata": {
        "id": "85IR-pXZO9Ds"
      },
      "execution_count": null,
      "outputs": []
    },
    {
      "cell_type": "markdown",
      "source": [
        "#Pregunta 2\n"
      ],
      "metadata": {
        "id": "cvb_w1HZGxk0"
      }
    },
    {
      "cell_type": "markdown",
      "source": [
        "Declara una variable de tipus char anomenada c, i assignali el valor 'a':\n",
        "\n",
        "char c = 'a';\n",
        "Declara una variable de tipus int, anomenada n, i assigna-li el valor de la variable c:\n",
        "\n",
        "int n = c;\n",
        "Quin resultat obtens? Per què?\n",
        "\n",
        "//TODO\n",
        "\n",
        "Ara, declara una variable de tipus short, anomenada s, i assigna-li el valor de la variable c:\n",
        "\n",
        "short s = c;\n",
        "Per què ara el resultat obtingut és diferent que en el cas anterior?\n",
        "\n",
        "//TODO\n"
      ],
      "metadata": {
        "id": "9tQTZlcnQmFD"
      }
    },
    {
      "cell_type": "code",
      "source": [
        "char c = 'a';\n",
        "  System.out.printf(\"%s%n\", c);\n",
        "int n = c;\n",
        "  System.out.printf(\"%d%n\", n);"
      ],
      "metadata": {
        "id": "QlyCz-q7QqjC"
      },
      "execution_count": null,
      "outputs": []
    },
    {
      "cell_type": "markdown",
      "source": [
        "###Primero obtemeos el carácter introducido y luego abajo en variable \"int\" , obtenemos el numero del carácter de la tabla ASCII"
      ],
      "metadata": {
        "id": "z2BwgLbfRSwa"
      }
    },
    {
      "cell_type": "code",
      "source": [
        "char c = 'a';\n",
        "short s = c;\n",
        "  System.out.printf(\"%d%n\", s);"
      ],
      "metadata": {
        "id": "maGzHV6zRpp7"
      },
      "execution_count": null,
      "outputs": []
    },
    {
      "cell_type": "markdown",
      "source": [
        "### Aqui nos da un error porqué short es un tipo de dato más pequeño que el integer y acepta menos cantidad de bits, entonces en este caso lo que tendremos que hacer será forzar el short:"
      ],
      "metadata": {
        "id": "odl_ALN2UbLG"
      }
    },
    {
      "cell_type": "code",
      "source": [
        "char c = 'a';\n",
        "short s = (short) c;\n",
        "  System.out.printf(\"%d%n\", s);"
      ],
      "metadata": {
        "id": "7VcLtVRzVSMi"
      },
      "execution_count": null,
      "outputs": []
    },
    {
      "cell_type": "markdown",
      "source": [
        "#Pregunta 3"
      ],
      "metadata": {
        "id": "pVXMz4RdGskh"
      }
    },
    {
      "cell_type": "markdown",
      "source": [
        "Continuant amb les variables de tipus char i short declarades a l'exercici 2, ara executeu:\n",
        "\n",
        "short s = (short)c;\n",
        "Com s'anomena això que estem fent amb la variable c? Quin resultat obtenim ara? Per què (què està passant)?\n",
        "\n",
        "//TODO"
      ],
      "metadata": {
        "id": "dBy8YQxKWU9h"
      }
    },
    {
      "cell_type": "code",
      "source": [
        "short s = (short) c;\n",
        "  System.out.printf(\"%d%n\", s);"
      ],
      "metadata": {
        "id": "V-SAusXxWYvi"
      },
      "execution_count": null,
      "outputs": []
    },
    {
      "cell_type": "markdown",
      "source": [
        "### Lo que estamos haciendo ahora es casting, lo estamos haciendo es forzar el tipo de datop short, con lo cual hace que tenga capacidad de registrar más bits"
      ],
      "metadata": {
        "id": "dHRGk0JzXe62"
      }
    },
    {
      "cell_type": "markdown",
      "source": [
        "#Pregunta 4\n"
      ],
      "metadata": {
        "id": "72ML_ufBGY7i"
      }
    },
    {
      "cell_type": "markdown",
      "source": [
        "Executa el següent codi en una cel·la del notebook:\n",
        "\n",
        "short s = (short)32000;\n",
        "short s = (short)35000;\n",
        "Quins resultats obtens? Per què?\n",
        "\n",
        "//TODO\n",
        "\n",
        "La meva resposta és que......\n",
        "\n",
        "short s = (short)32000;\n",
        "println(s);\n",
        "\n",
        "short s = (short)35000;\n",
        "\n",
        "print(s);\n",
        "32000"
      ],
      "metadata": {
        "id": "DraCn_gZYBtK"
      }
    },
    {
      "cell_type": "code",
      "source": [
        "short s = (short)32000;\n",
        "short s = (short)35000;\n",
        "  System.out.printf(\"%d%n\", s);"
      ],
      "metadata": {
        "id": "nTDFl-7pYDTC"
      },
      "execution_count": null,
      "outputs": []
    },
    {
      "cell_type": "markdown",
      "source": [
        "### Obtenemos el resultado -30536 ya quee representa la multitud de valores igual a 2^16 que equivale a 65.536 posibles valores. Y sale en negativo porqué no entra en el rango de los positivos"
      ],
      "metadata": {
        "id": "FPqEaRwIdXw1"
      }
    },
    {
      "cell_type": "markdown",
      "source": [
        "#Pregunta 5"
      ],
      "metadata": {
        "id": "8sCWi-5ZGcK6"
      }
    },
    {
      "cell_type": "markdown",
      "source": [
        "Executa el següent codi amb el jshell:\n",
        "\n",
        "var v = 5.0;\n",
        "var v0 = 5;\n",
        "De quin tipus de dada són les variables v i v0?\n",
        "\n",
        "//TODO\n",
        "\n",
        "Ara, executa:\n",
        "\n",
        "var v1 = v + v0;\n",
        "De quin tipus de dada és la variable v1? Per què (què està passant en fer-se la suma)?\n",
        "\n",
        "//TODO\n",
        "\n",
        "var b = 65;\n",
        "println(b);\n",
        "b = 'B';\n",
        "println(b);\n",
        "\n",
        "var a = 'A';\n",
        "println(a);\n",
        "a = 66;\n",
        "println(a);\n",
        "65\n",
        "66\n",
        "A\n",
        "B"
      ],
      "metadata": {
        "id": "9GDAJ_KQd850"
      }
    },
    {
      "cell_type": "code",
      "source": [
        "var v = 5.0;\n",
        "var v0 = 5;\n",
        "  System.out.printf(\"%f%n %d%n\", v, v0);\n",
        "\n",
        "var v1 = v + v0;\n",
        "  System.out.printf(\"%1.1f%n\", v1);\n",
        "var v1 = v + v0;\n",
        "  System.out.printf(\"%1.1f%n\", v1);"
      ],
      "metadata": {
        "id": "w8eAnfTReAO6"
      },
      "execution_count": null,
      "outputs": []
    },
    {
      "cell_type": "markdown",
      "source": [
        "### La \"v\" es un tipo de dato Float y la \"v0\" es un tipo de dato Integer. Y luego en la suma la \"v1\" que es la suma de \"v\" y \"v0\" dará el resultado tipo Float, ya que al menos que uno de los valores sea Float y el otro Integer, el resultado dará un Float, porqué ya hay un valor Float asignado."
      ],
      "metadata": {
        "id": "aKx3r9qfgSCB"
      }
    },
    {
      "cell_type": "markdown",
      "source": [
        "#Pregunta 8"
      ],
      "metadata": {
        "id": "K05FOa_LGiQz"
      }
    },
    {
      "cell_type": "markdown",
      "source": [
        "Declareu dues variables de tipus char de la següent manera:\n",
        "\n",
        "char c = 'a', c1 = 1;\n",
        "L'objectiu d'aquest exercici és assignar el valor 'b' en una tercera variable de tipus char, però sense usar el literal 'b', sinó fent la suma de les variables c i c1, és a dir:\n",
        "\n",
        "char c2 = c + c1;\n",
        "Què està passant? Com ho podem solucionar per tal d'aconseguir l'objectiu d'aquest exercici?\n",
        "\n",
        "//TODO"
      ],
      "metadata": {
        "id": "gMFlfJ2IhOlT"
      }
    },
    {
      "cell_type": "code",
      "source": [
        "char c = 'a', c1 = 1;\n",
        "  System.out.printf(\"%s, %s%n\", c, c1);\n",
        "\n",
        "char c2 = c + c1;\n",
        "  System.out.printf(\"%s\", c2);"
      ],
      "metadata": {
        "id": "1zoJpxGhhQ_p"
      },
      "execution_count": null,
      "outputs": []
    },
    {
      "cell_type": "markdown",
      "source": [
        "### Aqui nos da un error ya que el comando \"char\" no se usa para sumar dos variables, para solucionar eso utilizaremos el \"int\" por ejemplo:"
      ],
      "metadata": {
        "id": "vby_tKoOlfjI"
      }
    },
    {
      "cell_type": "code",
      "source": [
        " char c = 'a', c1 = 1;\n",
        "  System.out.printf(\"%s, %s%n\", c, c1);\n",
        " int c2 = c + c1;\n",
        "  System.out.printf(\"%d%n\", c2);"
      ],
      "metadata": {
        "id": "JBSXG1V7lrHN"
      },
      "execution_count": null,
      "outputs": []
    },
    {
      "cell_type": "markdown",
      "source": [
        "#Pregunta 9"
      ],
      "metadata": {
        "id": "H6Jzi9QKGlGS"
      }
    },
    {
      "cell_type": "markdown",
      "source": [
        "Executa la següent expressió i assigna-la a una variable h:\n",
        "\n",
        "var h = 4 * 4f + (4.0 + 4);\n",
        "Ara, assigna el valor guardat a la variable h, a una altra variable de tipus float:\n",
        "\n",
        "float f = h;\n",
        "Què obtenim? Per què?\n",
        "\n",
        "//TODO\n",
        "\n",
        "Ara escriu el canvi que cal fer en l'expressió inicial (4 * 4f + (4.0 + 4)) per tal que l'assignació del valor d'h a f sigui reeixit.\n",
        "\n",
        "//TODO"
      ],
      "metadata": {
        "id": "ZmE9lYLYl2xS"
      }
    },
    {
      "cell_type": "code",
      "source": [
        "var h = 4 * 4f + (4.0f + 4);\n",
        "  System.out.printf(\"%f%n\", h);\n",
        "float f = h;\n",
        "  System.out.printf(\"%f%n\", f);"
      ],
      "metadata": {
        "id": "f0mckq_Cl4Qq"
      },
      "execution_count": null,
      "outputs": []
    },
    {
      "cell_type": "markdown",
      "source": [
        "### Obtenemos un error ya que en la variable \"h\" hay un Float que reconoce como Double ya que esta auto aplicado como un decimal, entonces para solucionar esto en la misma variable \"h\", ponemos una \"f\" justo al lado después del número 4.0 para forzarlo, entonces quedaria asi: "
      ],
      "metadata": {
        "id": "lyK1HUBOov1Z"
      }
    },
    {
      "cell_type": "code",
      "source": [
        "var h = 4 * 4f + (4.0f + 4);\n",
        "  System.out.printf(\"%f%n\", h);\n",
        "float f = h;\n",
        "  System.out.printf(\"%f%n\", f);"
      ],
      "metadata": {
        "id": "iWIz_yK4pjp1"
      },
      "execution_count": null,
      "outputs": []
    },
    {
      "cell_type": "markdown",
      "source": [
        "#Pregunta 10"
      ],
      "metadata": {
        "id": "Q4Is232bGnz5"
      }
    },
    {
      "cell_type": "markdown",
      "source": [
        "A partir de les següents variables i assignacions:\n",
        "\n",
        "byte b0 = 4, b1 = -4, b2 = 12;\n",
        "Executa el següent codi:\n",
        "\n",
        "boolean bol1 = b0 == b2 / 3;\n",
        "boolean bol2 = b0 + b1;\n",
        "boolean bol3 = b0 + b1 > b2;\n",
        "Explica el resultats obtinguts en cada cas:\n",
        "\n",
        "//TODO"
      ],
      "metadata": {
        "id": "DQrD2eS3pnGv"
      }
    },
    {
      "cell_type": "code",
      "source": [
        "byte b0 = 4, b1 = -4, b2 = 12;\n",
        "\n",
        "boolean bol1 = b0 == b2 / 3;\n",
        "  \n",
        "  System.out.printf(\"%b%n\", bol1);\n",
        "\n",
        "boolean bol2 = b0 + b1;\n",
        "  \n",
        "  System.out.printf(\"%b%n\", bol2);\n",
        "\n",
        "boolean bol3 = b0 + b1 > b2;\n",
        "  \n",
        "  System.out.printf(\"%b%n\", bol3);\n",
        "\n",
        "  "
      ],
      "metadata": {
        "id": "IA1OBWcVpoaf"
      },
      "execution_count": null,
      "outputs": []
    },
    {
      "cell_type": "markdown",
      "source": [
        "### Aqui de los tres resultados obtenimos, que el primero esta bien hecho y el tercero también, pero en principio sale mal porqué el segundo está mal hecho, porqué es una suma y los booleans son true o false, y por eso tiene que ser una comparación, entonces cambiamos en segundo en vez de suma le cambiamos por ejemplo a que \"b0\" no es igual que \"b1\", entonces se representaria de la siguiente manera: | boolean bol2 = b0 != b1; | y entonces el tercero por defecto se pone bién porqué he modificado el segundo y entonces ya puede aplicar el tercer boolean.\n",
        "\n",
        "---\n",
        "\n"
      ],
      "metadata": {
        "id": "TUjzWk3YqZtU"
      }
    },
    {
      "cell_type": "code",
      "source": [],
      "metadata": {
        "id": "jESLBkzc9aZ4"
      },
      "execution_count": null,
      "outputs": []
    }
  ]
}